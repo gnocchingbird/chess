{
 "cells": [
  {
   "cell_type": "code",
   "execution_count": 4,
   "metadata": {},
   "outputs": [
    {
     "name": "stdout",
     "output_type": "stream",
     "text": [
      "pygame 2.1.0 (SDL 2.0.16, Python 3.9.5)\n",
      "Hello from the pygame community. https://www.pygame.org/contribute.html\n"
     ]
    }
   ],
   "source": [
    "import pygame"
   ]
  },
  {
   "cell_type": "code",
   "execution_count": 5,
   "metadata": {},
   "outputs": [
    {
     "data": {
      "text/plain": [
       "(5, 0)"
      ]
     },
     "execution_count": 5,
     "metadata": {},
     "output_type": "execute_result"
    }
   ],
   "source": [
    "pygame.init()"
   ]
  },
  {
   "cell_type": "code",
   "execution_count": 3,
   "metadata": {},
   "outputs": [
    {
     "data": {
      "text/plain": [
       "True"
      ]
     },
     "execution_count": 3,
     "metadata": {},
     "output_type": "execute_result"
    }
   ],
   "source": [
    "pygame.get_init()"
   ]
  },
  {
   "cell_type": "code",
   "execution_count": 6,
   "metadata": {},
   "outputs": [],
   "source": [
    "window = pygame.display.set_mode((800, 800))"
   ]
  },
  {
   "cell_type": "code",
   "execution_count": 15,
   "metadata": {},
   "outputs": [],
   "source": [
    "running = True\n",
    "\n",
    "while running:\n",
    "    pygame.draw.rect(window, (0, 0, 0), [0, 0, 800, 800])\n",
    "    pygame.draw.rect(window, (200, 200, 200), [0, 0, 100, 100])\n",
    "    pygame.draw.rect(window, (200, 200, 200), [200, 0, 100, 100])\n",
    "    \n",
    "    pygame.display.update()\n",
    "    for event in pygame.event.get():\n",
    "        if event.type == pygame.QUIT:\n",
    "            running = False\n",
    "\n",
    "pygame.display.quit()"
   ]
  },
  {
   "cell_type": "code",
   "execution_count": 3,
   "metadata": {},
   "outputs": [
    {
     "data": {
      "text/plain": [
       "[[(0, 0, 100, 100),\n",
       "  (200, 0, 300, 100),\n",
       "  (400, 0, 500, 100),\n",
       "  (600, 0, 700, 100)],\n",
       " [(100, 100, 200, 200),\n",
       "  (300, 100, 400, 200),\n",
       "  (500, 100, 600, 200),\n",
       "  (700, 100, 800, 200)]]"
      ]
     },
     "execution_count": 3,
     "metadata": {},
     "output_type": "execute_result"
    }
   ],
   "source": [
    "testlist = []\n",
    "for row in range(2):\n",
    "    testlist.append([])\n",
    "    for col in range(0, 8, 2):\n",
    "        testlist[row].append(((col + row % 2) * 100, row * 100, (col + row % 2) * 100 + 100, row * 100 + 100))\n",
    "\n",
    "testlist"
   ]
  }
 ],
 "metadata": {
  "interpreter": {
   "hash": "fbc3e5f17c59a1aa62a8548b42d38d6236eaad7c5fc3e3ddf2be4d2de4cc928f"
  },
  "kernelspec": {
   "display_name": "Python 3.9.5 64-bit",
   "language": "python",
   "name": "python3"
  },
  "language_info": {
   "codemirror_mode": {
    "name": "ipython",
    "version": 3
   },
   "file_extension": ".py",
   "mimetype": "text/x-python",
   "name": "python",
   "nbconvert_exporter": "python",
   "pygments_lexer": "ipython3",
   "version": "3.9.5"
  },
  "orig_nbformat": 4
 },
 "nbformat": 4,
 "nbformat_minor": 2
}
